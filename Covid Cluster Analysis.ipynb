{
 "cells": [
  {
   "cell_type": "markdown",
   "metadata": {},
   "source": [
    "# Introduction"
   ]
  },
  {
   "cell_type": "markdown",
   "metadata": {},
   "source": [
    "#### Covid-19 pandemic has swept across the world, and local authorities are keen to curb the spread of the pandemic for public health and safety. The key to stopping the chain of transmission is to understand where the infections have occurred or where the infected have visited. Analysing these locations would be useful to determine where clusters are forming and if any patterns to these locations can be determined, then more efforts can be taken for safety and precautionary measures to prevent the spread of the virus at similar places."
   ]
  },
  {
   "cell_type": "markdown",
   "metadata": {},
   "source": [
    "# Data\n",
    "The data to be used is information of the locations of confirmed cases, which can include their workplace, place of residence or places they have visited. \n",
    "\n"
   ]
  },
  {
   "cell_type": "markdown",
   "metadata": {},
   "source": [
    "### Source of data\n",
    "This data is collected from local authorities and mainstream media. \n",
    "https://www.moh.gov.sg/covid-19/past-updates\n",
    "https://www.channelnewsasia.com/news/singapore/wuhan-virus-singapore-confirmed-cases-coronavirus-12324270\n",
    "https://www.straitstimes.com/singapore/health/novel-coronavirus-cases-in-singapore\n"
   ]
  },
  {
   "cell_type": "markdown",
   "metadata": {},
   "source": [
    "### How it will be used to solve the problem\n",
    "The locations will be used to determine if there are clusters forming, in terms of number of confirmed cases who have been at the same location.\n",
    "Also, the similarity of the location areas will be assessed to determine if the location areas have any similar patterns.\n"
   ]
  },
  {
   "cell_type": "code",
   "execution_count": null,
   "metadata": {},
   "outputs": [],
   "source": []
  }
 ],
 "metadata": {
  "kernelspec": {
   "display_name": "Python 3",
   "language": "python",
   "name": "python3"
  },
  "language_info": {
   "codemirror_mode": {
    "name": "ipython",
    "version": 3
   },
   "file_extension": ".py",
   "mimetype": "text/x-python",
   "name": "python",
   "nbconvert_exporter": "python",
   "pygments_lexer": "ipython3",
   "version": "3.7.1"
  }
 },
 "nbformat": 4,
 "nbformat_minor": 2
}
